{
 "cells": [
  {
   "cell_type": "code",
   "execution_count": 2,
   "id": "60babe76",
   "metadata": {},
   "outputs": [],
   "source": [
    "test = {'1': [1, 2, 3],\n",
    "        '2': [2, [1,2]],\n",
    "        '3': [3]}"
   ]
  },
  {
   "cell_type": "code",
   "execution_count": 7,
   "id": "0c5f4299",
   "metadata": {},
   "outputs": [],
   "source": [
    "memoryFile = open('testMemory.txt', 'w')\n",
    "for key, entry in test.items():\n",
    "    print('{}:{}'.format(key, entry), file=memoryFile)"
   ]
  },
  {
   "cell_type": "code",
   "execution_count": 8,
   "id": "af1e35f1",
   "metadata": {},
   "outputs": [],
   "source": [
    "memoryFile.close()"
   ]
  },
  {
   "cell_type": "code",
   "execution_count": 19,
   "id": "f22febf0",
   "metadata": {},
   "outputs": [],
   "source": [
    "def saveMemory(memory, file):\n",
    "    memoryFile = open(file, 'w')\n",
    "    for key, entry in memory.items():\n",
    "        print('{}:{}'.format(key, entry), file=file)\n",
    "    memoryFile.close()"
   ]
  },
  {
   "cell_type": "code",
   "execution_count": 20,
   "id": "31467320",
   "metadata": {},
   "outputs": [],
   "source": [
    "def loadMemory(file):\n",
    "    memoryFile = open(file, 'r')\n",
    "    memory = {}\n",
    "    for line in memoryFile.readlines():\n",
    "        entry = line.replace('\\n', '').split(':')\n",
    "        memory[entry[0]] = eval(entry[1])\n",
    "    memoryFile.close()\n",
    "    return memory"
   ]
  },
  {
   "cell_type": "code",
   "execution_count": 17,
   "id": "f72c23f4",
   "metadata": {},
   "outputs": [
    {
     "data": {
      "text/plain": [
       "{'1': [1, 2, 3], '2': [2, [1, 2]], '3': [3]}"
      ]
     },
     "execution_count": 17,
     "metadata": {},
     "output_type": "execute_result"
    }
   ],
   "source": [
    "loadMemory('testMemory.txt')"
   ]
  },
  {
   "cell_type": "code",
   "execution_count": 13,
   "id": "43290352",
   "metadata": {},
   "outputs": [],
   "source": [
    "test = 'str'"
   ]
  },
  {
   "cell_type": "code",
   "execution_count": 14,
   "id": "d713c63d",
   "metadata": {},
   "outputs": [
    {
     "data": {
      "text/plain": [
       "'tr'"
      ]
     },
     "execution_count": 14,
     "metadata": {},
     "output_type": "execute_result"
    }
   ],
   "source": [
    "test.replace('s', '')"
   ]
  },
  {
   "cell_type": "code",
   "execution_count": 21,
   "id": "25175a60",
   "metadata": {},
   "outputs": [
    {
     "data": {
      "text/plain": [
       "{}"
      ]
     },
     "execution_count": 21,
     "metadata": {},
     "output_type": "execute_result"
    }
   ],
   "source": [
    "loadMemory('test.txt')"
   ]
  },
  {
   "cell_type": "code",
   "execution_count": 22,
   "id": "ebe03a25",
   "metadata": {},
   "outputs": [
    {
     "data": {
      "text/plain": [
       "'C:\\\\Users\\\\koolk\\\\Dropbox (NSC)\\\\NSC\\\\annualReview\\\\service\\\\GameJam2023\\\\notebooks\\\\strategy\\\\pokerAI3.txt'"
      ]
     },
     "execution_count": 22,
     "metadata": {},
     "output_type": "execute_result"
    }
   ],
   "source": [
    "import sys\n",
    "import os\n",
    "strategyDir = os.path.join(os.getcwd(), 'strategy')\n",
    "os.path.join(strategyDir, 'pokerAI3.txt')"
   ]
  },
  {
   "cell_type": "code",
   "execution_count": 24,
   "id": "0545b57b",
   "metadata": {},
   "outputs": [
    {
     "data": {
      "text/plain": [
       "{}"
      ]
     },
     "execution_count": 24,
     "metadata": {},
     "output_type": "execute_result"
    }
   ],
   "source": [
    "loadMemory(os.path.join(os.getcwd(), 'test.txt'))"
   ]
  },
  {
   "cell_type": "code",
   "execution_count": null,
   "id": "7c5fb4f4",
   "metadata": {},
   "outputs": [],
   "source": []
  }
 ],
 "metadata": {
  "kernelspec": {
   "display_name": "Python 3 (ipykernel)",
   "language": "python",
   "name": "python3"
  },
  "language_info": {
   "codemirror_mode": {
    "name": "ipython",
    "version": 3
   },
   "file_extension": ".py",
   "mimetype": "text/x-python",
   "name": "python",
   "nbconvert_exporter": "python",
   "pygments_lexer": "ipython3",
   "version": "3.9.12"
  }
 },
 "nbformat": 4,
 "nbformat_minor": 5
}
