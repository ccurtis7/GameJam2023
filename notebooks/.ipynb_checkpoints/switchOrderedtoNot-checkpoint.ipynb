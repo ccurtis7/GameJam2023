{
 "cells": [
  {
   "cell_type": "code",
   "execution_count": null,
   "id": "98362b38",
   "metadata": {},
   "outputs": [],
   "source": [
    "# Designing a way to identify which die to reroll, give positions\n",
    "# in a sorted list. Not perfect for our bot, as it doesn't perfectly retain the information\n",
    "# of the game state.\n",
    "# going to redo with counts instead."
   ]
  },
  {
   "cell_type": "code",
   "execution_count": 10,
   "id": "2414c9a7",
   "metadata": {},
   "outputs": [],
   "source": [
    "values = [1, 2, 4, 5, 5]\n",
    "# Created list of values from least to greated\n",
    "vSorted = values.copy() \n",
    "vSorted.sort(reverse=True)\n",
    "\n",
    "# Locations to reroll in sorted positions\n",
    "reSorted = [0, 2]"
   ]
  },
  {
   "cell_type": "code",
   "execution_count": 2,
   "id": "33c8da76",
   "metadata": {},
   "outputs": [
    {
     "data": {
      "text/plain": [
       "[5, 5, 4, 2, 1]"
      ]
     },
     "execution_count": 2,
     "metadata": {},
     "output_type": "execute_result"
    }
   ],
   "source": [
    "vSorted"
   ]
  },
  {
   "cell_type": "code",
   "execution_count": 6,
   "id": "d971b33e",
   "metadata": {},
   "outputs": [],
   "source": [
    "def garbageMakeID(values, roll):\n",
    "    vSorted = values.copy()\n",
    "    vSorted.sort(reverse=True)\n",
    "    return ''.join([str(roll)] + [str(i) for i in vSorted])"
   ]
  },
  {
   "cell_type": "code",
   "execution_count": 14,
   "id": "385348ae",
   "metadata": {},
   "outputs": [],
   "source": [
    "state = garbageMakeID(values, 1)"
   ]
  },
  {
   "cell_type": "code",
   "execution_count": 12,
   "id": "368bac9b",
   "metadata": {},
   "outputs": [],
   "source": [
    "reroll = []\n",
    "for i in reSorted:\n",
    "    # Find the locations to reroll in unsorted positions\n",
    "    toFind = vSorted[i]\n",
    "    vCleaned = values.copy()\n",
    "    re1 = vCleaned.index(toFind)\n",
    "    vCleaned[re1] = '.'\n",
    "    reroll.append(re1)"
   ]
  },
  {
   "cell_type": "code",
   "execution_count": 19,
   "id": "a0005c64",
   "metadata": {},
   "outputs": [],
   "source": [
    "def whichReroll3(state, values, rerollSorted):\n",
    "    # Create the sorted list from the state/ID\n",
    "    vSorted = [int(i) for i in list(state[1:])]\n",
    "    \n",
    "    reroll = []\n",
    "    for i in rerollSorted:\n",
    "        # Find the locations to reroll in unsorted positions\n",
    "        toFind = vSorted[i]\n",
    "        vCleaned = values.copy()\n",
    "        re1 = vCleaned.index(toFind)\n",
    "        vCleaned[re1] = '.'\n",
    "        reroll.append(re1)\n",
    "        \n",
    "    return reroll"
   ]
  },
  {
   "cell_type": "code",
   "execution_count": null,
   "id": "14aa0478",
   "metadata": {},
   "outputs": [],
   "source": []
  },
  {
   "cell_type": "code",
   "execution_count": 18,
   "id": "5d8edffe",
   "metadata": {},
   "outputs": [
    {
     "data": {
      "text/plain": [
       "[5, 5, 4, 2, 1]"
      ]
     },
     "execution_count": 18,
     "metadata": {},
     "output_type": "execute_result"
    }
   ],
   "source": [
    "vSorted = [int(i) for i in list(state[1:])]"
   ]
  },
  {
   "cell_type": "code",
   "execution_count": 21,
   "id": "59c1ffb4",
   "metadata": {},
   "outputs": [],
   "source": [
    "import numpy as np"
   ]
  },
  {
   "cell_type": "code",
   "execution_count": 22,
   "id": "caef914c",
   "metadata": {},
   "outputs": [
    {
     "ename": "NameError",
     "evalue": "name 'counts' is not defined",
     "output_type": "error",
     "traceback": [
      "\u001b[1;31m---------------------------------------------------------------------------\u001b[0m",
      "\u001b[1;31mNameError\u001b[0m                                 Traceback (most recent call last)",
      "Input \u001b[1;32mIn [22]\u001b[0m, in \u001b[0;36m<cell line: 1>\u001b[1;34m()\u001b[0m\n\u001b[1;32m----> 1\u001b[0m np\u001b[38;5;241m.\u001b[39mmax(\u001b[43mcounts\u001b[49m)\n",
      "\u001b[1;31mNameError\u001b[0m: name 'counts' is not defined"
     ]
    }
   ],
   "source": [
    "np.max(counts)"
   ]
  },
  {
   "cell_type": "code",
   "execution_count": null,
   "id": "bab4c230",
   "metadata": {},
   "outputs": [],
   "source": []
  }
 ],
 "metadata": {
  "kernelspec": {
   "display_name": "Python (base)",
   "language": "python",
   "name": "base"
  },
  "language_info": {
   "codemirror_mode": {
    "name": "ipython",
    "version": 3
   },
   "file_extension": ".py",
   "mimetype": "text/x-python",
   "name": "python",
   "nbconvert_exporter": "python",
   "pygments_lexer": "ipython3",
   "version": "3.8.8"
  }
 },
 "nbformat": 4,
 "nbformat_minor": 5
}
