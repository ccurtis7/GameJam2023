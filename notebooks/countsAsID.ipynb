{
 "cells": [
  {
   "cell_type": "code",
   "execution_count": 1,
   "id": "c2af48cf",
   "metadata": {},
   "outputs": [],
   "source": [
    "values = [1, 2, 4, 5, 2]"
   ]
  },
  {
   "cell_type": "code",
   "execution_count": 5,
   "id": "ef74862f",
   "metadata": {},
   "outputs": [],
   "source": [
    "def takingStock(values):\n",
    "    counts = [0]*7\n",
    "    locs = [0]*7\n",
    "    for i, value in enumerate(values):\n",
    "        counts[value] += 1\n",
    "        if locs[value] == 0:\n",
    "            locs[value] = [i]\n",
    "        else:\n",
    "            locs[value] = locs[value] + [i]\n",
    "            \n",
    "    return counts, locs"
   ]
  },
  {
   "cell_type": "code",
   "execution_count": 3,
   "id": "497a03bb",
   "metadata": {},
   "outputs": [
    {
     "data": {
      "text/plain": [
       "[0, 1, 2, 0, 1, 1, 0]"
      ]
     },
     "execution_count": 3,
     "metadata": {},
     "output_type": "execute_result"
    }
   ],
   "source": [
    "counts"
   ]
  },
  {
   "cell_type": "code",
   "execution_count": 34,
   "id": "8cdbf665",
   "metadata": {},
   "outputs": [],
   "source": [
    "def garbageMakeID(values, roll):\n",
    "    counts, locs = takingStock(values)\n",
    "    state = counts.copy()\n",
    "    state[0] = roll\n",
    "    return ''.join([str(i) for i in state])"
   ]
  },
  {
   "cell_type": "code",
   "execution_count": 9,
   "id": "72f835bb",
   "metadata": {},
   "outputs": [
    {
     "data": {
      "text/plain": [
       "'1120110'"
      ]
     },
     "execution_count": 9,
     "metadata": {},
     "output_type": "execute_result"
    }
   ],
   "source": [
    "garbageMakeID(values, 1)"
   ]
  },
  {
   "cell_type": "code",
   "execution_count": 10,
   "id": "ef77c3fe",
   "metadata": {},
   "outputs": [],
   "source": [
    "import os"
   ]
  },
  {
   "cell_type": "code",
   "execution_count": 15,
   "id": "f5ac5a51",
   "metadata": {},
   "outputs": [
    {
     "data": {
      "text/plain": [
       "'C:\\\\Users\\\\5007906431\\\\Dropbox (NSC)\\\\NSC\\\\annualReview\\\\service\\\\GameJam2023\\\\notebooks\\\\strategy'"
      ]
     },
     "execution_count": 15,
     "metadata": {},
     "output_type": "execute_result"
    }
   ],
   "source": [
    "os.path.join(os.getcwd(), 'strategy')"
   ]
  },
  {
   "cell_type": "code",
   "execution_count": 17,
   "id": "7e301527",
   "metadata": {},
   "outputs": [],
   "source": [
    "from itertools import combinations as comb\n",
    "test = []\n",
    "for i in range(6):\n",
    "    test = test + list(comb(range(5), i))"
   ]
  },
  {
   "cell_type": "code",
   "execution_count": 27,
   "id": "f972dbf6",
   "metadata": {},
   "outputs": [],
   "source": [
    "t = list(range(-5, 6))*3\n",
    "# Combo strategy, add in all possible roll combinations.\n",
    "test = []\n",
    "for i in range(1,6):\n",
    "    test = test + list(comb(range(5), i))*3\n",
    "for i in test:\n",
    "    t.append(list(i))"
   ]
  },
  {
   "cell_type": "code",
   "execution_count": 28,
   "id": "eb883c4f",
   "metadata": {},
   "outputs": [
    {
     "data": {
      "text/plain": [
       "[-5,\n",
       " -4,\n",
       " -3,\n",
       " -2,\n",
       " -1,\n",
       " 0,\n",
       " 1,\n",
       " 2,\n",
       " 3,\n",
       " 4,\n",
       " 5,\n",
       " -5,\n",
       " -4,\n",
       " -3,\n",
       " -2,\n",
       " -1,\n",
       " 0,\n",
       " 1,\n",
       " 2,\n",
       " 3,\n",
       " 4,\n",
       " 5,\n",
       " -5,\n",
       " -4,\n",
       " -3,\n",
       " -2,\n",
       " -1,\n",
       " 0,\n",
       " 1,\n",
       " 2,\n",
       " 3,\n",
       " 4,\n",
       " 5,\n",
       " [0],\n",
       " [1],\n",
       " [2],\n",
       " [3],\n",
       " [4],\n",
       " [0],\n",
       " [1],\n",
       " [2],\n",
       " [3],\n",
       " [4],\n",
       " [0],\n",
       " [1],\n",
       " [2],\n",
       " [3],\n",
       " [4],\n",
       " [0, 1],\n",
       " [0, 2],\n",
       " [0, 3],\n",
       " [0, 4],\n",
       " [1, 2],\n",
       " [1, 3],\n",
       " [1, 4],\n",
       " [2, 3],\n",
       " [2, 4],\n",
       " [3, 4],\n",
       " [0, 1],\n",
       " [0, 2],\n",
       " [0, 3],\n",
       " [0, 4],\n",
       " [1, 2],\n",
       " [1, 3],\n",
       " [1, 4],\n",
       " [2, 3],\n",
       " [2, 4],\n",
       " [3, 4],\n",
       " [0, 1],\n",
       " [0, 2],\n",
       " [0, 3],\n",
       " [0, 4],\n",
       " [1, 2],\n",
       " [1, 3],\n",
       " [1, 4],\n",
       " [2, 3],\n",
       " [2, 4],\n",
       " [3, 4],\n",
       " [0, 1, 2],\n",
       " [0, 1, 3],\n",
       " [0, 1, 4],\n",
       " [0, 2, 3],\n",
       " [0, 2, 4],\n",
       " [0, 3, 4],\n",
       " [1, 2, 3],\n",
       " [1, 2, 4],\n",
       " [1, 3, 4],\n",
       " [2, 3, 4],\n",
       " [0, 1, 2],\n",
       " [0, 1, 3],\n",
       " [0, 1, 4],\n",
       " [0, 2, 3],\n",
       " [0, 2, 4],\n",
       " [0, 3, 4],\n",
       " [1, 2, 3],\n",
       " [1, 2, 4],\n",
       " [1, 3, 4],\n",
       " [2, 3, 4],\n",
       " [0, 1, 2],\n",
       " [0, 1, 3],\n",
       " [0, 1, 4],\n",
       " [0, 2, 3],\n",
       " [0, 2, 4],\n",
       " [0, 3, 4],\n",
       " [1, 2, 3],\n",
       " [1, 2, 4],\n",
       " [1, 3, 4],\n",
       " [2, 3, 4],\n",
       " [0, 1, 2, 3],\n",
       " [0, 1, 2, 4],\n",
       " [0, 1, 3, 4],\n",
       " [0, 2, 3, 4],\n",
       " [1, 2, 3, 4],\n",
       " [0, 1, 2, 3],\n",
       " [0, 1, 2, 4],\n",
       " [0, 1, 3, 4],\n",
       " [0, 2, 3, 4],\n",
       " [1, 2, 3, 4],\n",
       " [0, 1, 2, 3],\n",
       " [0, 1, 2, 4],\n",
       " [0, 1, 3, 4],\n",
       " [0, 2, 3, 4],\n",
       " [1, 2, 3, 4],\n",
       " [0, 1, 2, 3, 4],\n",
       " [0, 1, 2, 3, 4],\n",
       " [0, 1, 2, 3, 4]]"
      ]
     },
     "execution_count": 28,
     "metadata": {},
     "output_type": "execute_result"
    }
   ],
   "source": [
    "t"
   ]
  },
  {
   "cell_type": "code",
   "execution_count": 30,
   "id": "171d83b1",
   "metadata": {},
   "outputs": [],
   "source": [
    "def whichReroll3(state, values, rerollSorted):\n",
    "    # Create the sorted list from the state/ID\n",
    "    vSorted = [int(i) for i in list(state[1:])]\n",
    "    \n",
    "    reroll = []\n",
    "    for i in rerollSorted:\n",
    "        # Find the locations to reroll in unsorted positions\n",
    "        toFind = vSorted[i]\n",
    "        vCleaned = values.copy()\n",
    "        re1 = vCleaned.index(toFind)\n",
    "        vCleaned[re1] = '.'\n",
    "        reroll.append(re1)\n",
    "        \n",
    "    return reroll"
   ]
  },
  {
   "cell_type": "code",
   "execution_count": 50,
   "id": "4515934c",
   "metadata": {},
   "outputs": [
    {
     "ename": "ValueError",
     "evalue": "1 is not in list",
     "output_type": "error",
     "traceback": [
      "\u001b[1;31m---------------------------------------------------------------------------\u001b[0m",
      "\u001b[1;31mValueError\u001b[0m                                Traceback (most recent call last)",
      "Input \u001b[1;32mIn [50]\u001b[0m, in \u001b[0;36m<cell line: 4>\u001b[1;34m()\u001b[0m\n\u001b[0;32m      2\u001b[0m rerollSorted \u001b[38;5;241m=\u001b[39m [\u001b[38;5;241m1\u001b[39m, \u001b[38;5;241m3\u001b[39m, \u001b[38;5;241m4\u001b[39m]\n\u001b[0;32m      3\u001b[0m state \u001b[38;5;241m=\u001b[39m \u001b[38;5;124m'\u001b[39m\u001b[38;5;124m1012200\u001b[39m\u001b[38;5;124m'\u001b[39m\n\u001b[1;32m----> 4\u001b[0m \u001b[43mwhichReroll3\u001b[49m\u001b[43m(\u001b[49m\u001b[43mstate\u001b[49m\u001b[43m,\u001b[49m\u001b[43m \u001b[49m\u001b[43mvalues\u001b[49m\u001b[43m,\u001b[49m\u001b[43m \u001b[49m\u001b[43mrerollSorted\u001b[49m\u001b[43m)\u001b[49m\n",
      "Input \u001b[1;32mIn [30]\u001b[0m, in \u001b[0;36mwhichReroll3\u001b[1;34m(state, values, rerollSorted)\u001b[0m\n\u001b[0;32m      8\u001b[0m toFind \u001b[38;5;241m=\u001b[39m vSorted[i]\n\u001b[0;32m      9\u001b[0m vCleaned \u001b[38;5;241m=\u001b[39m values\u001b[38;5;241m.\u001b[39mcopy()\n\u001b[1;32m---> 10\u001b[0m re1 \u001b[38;5;241m=\u001b[39m \u001b[43mvCleaned\u001b[49m\u001b[38;5;241;43m.\u001b[39;49m\u001b[43mindex\u001b[49m\u001b[43m(\u001b[49m\u001b[43mtoFind\u001b[49m\u001b[43m)\u001b[49m\n\u001b[0;32m     11\u001b[0m vCleaned[re1] \u001b[38;5;241m=\u001b[39m \u001b[38;5;124m'\u001b[39m\u001b[38;5;124m.\u001b[39m\u001b[38;5;124m'\u001b[39m\n\u001b[0;32m     12\u001b[0m reroll\u001b[38;5;241m.\u001b[39mappend(re1)\n",
      "\u001b[1;31mValueError\u001b[0m: 1 is not in list"
     ]
    }
   ],
   "source": [
    "values = [4, 3, 4, 3, 2]\n",
    "rerollSorted = [1, 3, 4]\n",
    "state = '1012200'\n",
    "whichReroll3(state, values, rerollSorted)"
   ]
  },
  {
   "cell_type": "code",
   "execution_count": 57,
   "id": "896ed4e7",
   "metadata": {},
   "outputs": [
    {
     "name": "stdout",
     "output_type": "stream",
     "text": [
      "value to be rerolled: 3\n",
      "location in original list to be rerolled: 1\n",
      "cleaned up list: [4, '.', 4, 3, 2]\n",
      "value to be rerolled: 4\n",
      "location in original list to be rerolled: 0\n",
      "cleaned up list: ['.', '.', 4, 3, 2]\n",
      "value to be rerolled: 4\n",
      "location in original list to be rerolled: 2\n",
      "cleaned up list: ['.', '.', '.', 3, 2]\n"
     ]
    }
   ],
   "source": [
    "vSorted = values.copy()\n",
    "vSorted.sort()\n",
    "vCleaned = values.copy()\n",
    "    \n",
    "reroll = []\n",
    "for i in rerollSorted:\n",
    "    # Find the locations to reroll in unsorted positions\n",
    "    toFind = vSorted[i] \n",
    "    print('value to be rerolled: {}'.format(toFind))\n",
    "    \n",
    "    \n",
    "    re1 = vCleaned.index(toFind)\n",
    "    print('location in original list to be rerolled: {}'.format(re1))\n",
    "    vCleaned[re1] = '.'\n",
    "    print('cleaned up list: {}'.format(vCleaned))\n",
    "    reroll.append(re1)"
   ]
  },
  {
   "cell_type": "code",
   "execution_count": 58,
   "id": "4355db89",
   "metadata": {},
   "outputs": [
    {
     "data": {
      "text/plain": [
       "[1, 0, 2]"
      ]
     },
     "execution_count": 58,
     "metadata": {},
     "output_type": "execute_result"
    }
   ],
   "source": [
    "reroll"
   ]
  },
  {
   "cell_type": "code",
   "execution_count": 47,
   "id": "a73113d4",
   "metadata": {},
   "outputs": [
    {
     "data": {
      "text/plain": [
       "0"
      ]
     },
     "execution_count": 47,
     "metadata": {},
     "output_type": "execute_result"
    }
   ],
   "source": [
    "vSorted[1]"
   ]
  },
  {
   "cell_type": "code",
   "execution_count": 60,
   "id": "f826abe6",
   "metadata": {},
   "outputs": [],
   "source": [
    "import numpy as np\n",
    "test = np.array([4])"
   ]
  },
  {
   "cell_type": "code",
   "execution_count": 62,
   "id": "0c518d93",
   "metadata": {},
   "outputs": [
    {
     "data": {
      "text/plain": [
       "True"
      ]
     },
     "execution_count": 62,
     "metadata": {},
     "output_type": "execute_result"
    }
   ],
   "source": [
    "type(test[0]) == np.int32"
   ]
  },
  {
   "cell_type": "code",
   "execution_count": 63,
   "id": "1c45ac23",
   "metadata": {},
   "outputs": [],
   "source": [
    "from random import random"
   ]
  },
  {
   "cell_type": "code",
   "execution_count": 64,
   "id": "23a28c16",
   "metadata": {},
   "outputs": [
    {
     "data": {
      "text/plain": [
       "0.14692004398651715"
      ]
     },
     "execution_count": 64,
     "metadata": {},
     "output_type": "execute_result"
    }
   ],
   "source": [
    "random()"
   ]
  },
  {
   "cell_type": "code",
   "execution_count": 65,
   "id": "8019338a",
   "metadata": {},
   "outputs": [
    {
     "ename": "NameError",
     "evalue": "name 'obj' is not defined",
     "output_type": "error",
     "traceback": [
      "\u001b[1;31m---------------------------------------------------------------------------\u001b[0m",
      "\u001b[1;31mNameError\u001b[0m                                 Traceback (most recent call last)",
      "Input \u001b[1;32mIn [65]\u001b[0m, in \u001b[0;36m<cell line: 1>\u001b[1;34m()\u001b[0m\n\u001b[1;32m----> 1\u001b[0m \u001b[43mobj\u001b[49m(\u001b[38;5;241m-\u001b[39m\u001b[38;5;241m3\u001b[39m)\n",
      "\u001b[1;31mNameError\u001b[0m: name 'obj' is not defined"
     ]
    }
   ],
   "source": [
    "obj(-3)"
   ]
  },
  {
   "cell_type": "code",
   "execution_count": 66,
   "id": "9ca135b9",
   "metadata": {},
   "outputs": [],
   "source": [
    "test = np.array([1])"
   ]
  },
  {
   "cell_type": "code",
   "execution_count": 70,
   "id": "f1d0f50e",
   "metadata": {},
   "outputs": [
    {
     "data": {
      "text/plain": [
       "True"
      ]
     },
     "execution_count": 70,
     "metadata": {},
     "output_type": "execute_result"
    }
   ],
   "source": [
    "type(test) == np.ndarray"
   ]
  },
  {
   "cell_type": "code",
   "execution_count": 72,
   "id": "d29849fe",
   "metadata": {},
   "outputs": [],
   "source": [
    "test = [1, 2, 3]"
   ]
  },
  {
   "cell_type": "code",
   "execution_count": null,
   "id": "8f0a1e02",
   "metadata": {},
   "outputs": [],
   "source": [
    "_ = test.pop(i)"
   ]
  }
 ],
 "metadata": {
  "kernelspec": {
   "display_name": "Python (base)",
   "language": "python",
   "name": "base"
  },
  "language_info": {
   "codemirror_mode": {
    "name": "ipython",
    "version": 3
   },
   "file_extension": ".py",
   "mimetype": "text/x-python",
   "name": "python",
   "nbconvert_exporter": "python",
   "pygments_lexer": "ipython3",
   "version": "3.8.8"
  }
 },
 "nbformat": 4,
 "nbformat_minor": 5
}
