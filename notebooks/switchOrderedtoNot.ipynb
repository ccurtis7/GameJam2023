{
 "cells": [
  {
   "cell_type": "code",
   "execution_count": null,
   "id": "43d7687a",
   "metadata": {},
   "outputs": [],
   "source": [
    "# Designing a way to identify which die to reroll, give positions\n",
    "# in a sorted list. Not perfect for our bot, as it doesn't perfectly retain the information\n",
    "# of the game state.\n",
    "# going to redo with counts instead."
   ]
  },
  {
   "cell_type": "code",
   "execution_count": 10,
   "id": "76d1eeb7",
   "metadata": {},
   "outputs": [],
   "source": [
    "values = [1, 2, 4, 5, 5]\n",
    "# Created list of values from least to greated\n",
    "vSorted = values.copy() \n",
    "vSorted.sort(reverse=True)\n",
    "\n",
    "# Locations to reroll in sorted positions\n",
    "reSorted = [0, 2]"
   ]
  },
  {
   "cell_type": "code",
   "execution_count": 2,
   "id": "4da30d79",
   "metadata": {},
   "outputs": [
    {
     "data": {
      "text/plain": [
       "[5, 5, 4, 2, 1]"
      ]
     },
     "execution_count": 2,
     "metadata": {},
     "output_type": "execute_result"
    }
   ],
   "source": [
    "vSorted"
   ]
  },
  {
   "cell_type": "code",
   "execution_count": 6,
   "id": "22105f9e",
   "metadata": {},
   "outputs": [],
   "source": [
    "def garbageMakeID(values, roll):\n",
    "    vSorted = values.copy()\n",
    "    vSorted.sort(reverse=True)\n",
    "    return ''.join([str(roll)] + [str(i) for i in vSorted])"
   ]
  },
  {
   "cell_type": "code",
   "execution_count": 14,
   "id": "2fbd8241",
   "metadata": {},
   "outputs": [],
   "source": [
    "state = garbageMakeID(values, 1)"
   ]
  },
  {
   "cell_type": "code",
   "execution_count": 12,
   "id": "5a94497c",
   "metadata": {},
   "outputs": [],
   "source": [
    "reroll = []\n",
    "for i in reSorted:\n",
    "    # Find the locations to reroll in unsorted positions\n",
    "    toFind = vSorted[i]\n",
    "    vCleaned = values.copy()\n",
    "    re1 = vCleaned.index(toFind)\n",
    "    vCleaned[re1] = '.'\n",
    "    reroll.append(re1)"
   ]
  },
  {
   "cell_type": "code",
   "execution_count": 19,
   "id": "572346df",
   "metadata": {},
   "outputs": [],
   "source": [
    "def whichReroll3(state, values, rerollSorted):\n",
    "    # Create the sorted list from the state/ID\n",
    "    vSorted = [int(i) for i in list(state[1:])]\n",
    "    \n",
    "    reroll = []\n",
    "    for i in rerollSorted:\n",
    "        # Find the locations to reroll in unsorted positions\n",
    "        toFind = vSorted[i]\n",
    "        vCleaned = values.copy()\n",
    "        re1 = vCleaned.index(toFind)\n",
    "        vCleaned[re1] = '.'\n",
    "        reroll.append(re1)\n",
    "        \n",
    "    return reroll"
   ]
  },
  {
   "cell_type": "code",
   "execution_count": null,
   "id": "f09cc6e9",
   "metadata": {},
   "outputs": [],
   "source": []
  },
  {
   "cell_type": "code",
   "execution_count": 18,
   "id": "ed850b75",
   "metadata": {},
   "outputs": [
    {
     "data": {
      "text/plain": [
       "[5, 5, 4, 2, 1]"
      ]
     },
     "execution_count": 18,
     "metadata": {},
     "output_type": "execute_result"
    }
   ],
   "source": [
    "vSorted = [int(i) for i in list(state[1:])]"
   ]
  },
  {
   "cell_type": "code",
   "execution_count": 21,
   "id": "98901828",
   "metadata": {},
   "outputs": [],
   "source": [
    "import numpy as np"
   ]
  },
  {
   "cell_type": "code",
   "execution_count": 22,
   "id": "2d59cc57",
   "metadata": {},
   "outputs": [
    {
     "ename": "NameError",
     "evalue": "name 'counts' is not defined",
     "output_type": "error",
     "traceback": [
      "\u001b[1;31m---------------------------------------------------------------------------\u001b[0m",
      "\u001b[1;31mNameError\u001b[0m                                 Traceback (most recent call last)",
      "Input \u001b[1;32mIn [22]\u001b[0m, in \u001b[0;36m<cell line: 1>\u001b[1;34m()\u001b[0m\n\u001b[1;32m----> 1\u001b[0m np\u001b[38;5;241m.\u001b[39mmax(\u001b[43mcounts\u001b[49m)\n",
      "\u001b[1;31mNameError\u001b[0m: name 'counts' is not defined"
     ]
    }
   ],
   "source": [
    "np.max(counts)"
   ]
  },
  {
   "cell_type": "code",
   "execution_count": 24,
   "id": "1af0c0ae",
   "metadata": {},
   "outputs": [
    {
     "ename": "ValueError",
     "evalue": "0 is not in list",
     "output_type": "error",
     "traceback": [
      "\u001b[1;31m---------------------------------------------------------------------------\u001b[0m",
      "\u001b[1;31mValueError\u001b[0m                                Traceback (most recent call last)",
      "Input \u001b[1;32mIn [24]\u001b[0m, in \u001b[0;36m<cell line: 3>\u001b[1;34m()\u001b[0m\n\u001b[0;32m      1\u001b[0m values \u001b[38;5;241m=\u001b[39m [\u001b[38;5;241m4\u001b[39m, \u001b[38;5;241m3\u001b[39m, \u001b[38;5;241m4\u001b[39m, \u001b[38;5;241m3\u001b[39m, \u001b[38;5;241m2\u001b[39m]\n\u001b[0;32m      2\u001b[0m sel \u001b[38;5;241m=\u001b[39m [\u001b[38;5;241m1\u001b[39m, \u001b[38;5;241m3\u001b[39m, \u001b[38;5;241m4\u001b[39m]\n\u001b[1;32m----> 3\u001b[0m \u001b[43mwhichReroll3\u001b[49m\u001b[43m(\u001b[49m\u001b[38;5;124;43m'\u001b[39;49m\u001b[38;5;124;43m101220\u001b[39;49m\u001b[38;5;124;43m'\u001b[39;49m\u001b[43m,\u001b[49m\u001b[43m \u001b[49m\u001b[43mvalues\u001b[49m\u001b[43m,\u001b[49m\u001b[43m \u001b[49m\u001b[43msel\u001b[49m\u001b[43m)\u001b[49m\n",
      "Input \u001b[1;32mIn [19]\u001b[0m, in \u001b[0;36mwhichReroll3\u001b[1;34m(state, values, rerollSorted)\u001b[0m\n\u001b[0;32m      8\u001b[0m toFind \u001b[38;5;241m=\u001b[39m vSorted[i]\n\u001b[0;32m      9\u001b[0m vCleaned \u001b[38;5;241m=\u001b[39m values\u001b[38;5;241m.\u001b[39mcopy()\n\u001b[1;32m---> 10\u001b[0m re1 \u001b[38;5;241m=\u001b[39m \u001b[43mvCleaned\u001b[49m\u001b[38;5;241;43m.\u001b[39;49m\u001b[43mindex\u001b[49m\u001b[43m(\u001b[49m\u001b[43mtoFind\u001b[49m\u001b[43m)\u001b[49m\n\u001b[0;32m     11\u001b[0m vCleaned[re1] \u001b[38;5;241m=\u001b[39m \u001b[38;5;124m'\u001b[39m\u001b[38;5;124m.\u001b[39m\u001b[38;5;124m'\u001b[39m\n\u001b[0;32m     12\u001b[0m reroll\u001b[38;5;241m.\u001b[39mappend(re1)\n",
      "\u001b[1;31mValueError\u001b[0m: 0 is not in list"
     ]
    }
   ],
   "source": [
    "values = [4, 3, 4, 3, 2]\n",
    "sel = [1, 3, 4]\n",
    "whichReroll3('101220', values, sel)"
   ]
  },
  {
   "cell_type": "code",
   "execution_count": 26,
   "id": "1f819d8d",
   "metadata": {},
   "outputs": [
    {
     "data": {
      "text/plain": [
       "'144332'"
      ]
     },
     "execution_count": 26,
     "metadata": {},
     "output_type": "execute_result"
    }
   ],
   "source": [
    "garbageMakeID(values, 1)"
   ]
  },
  {
   "cell_type": "code",
   "execution_count": null,
   "id": "457ed762",
   "metadata": {},
   "outputs": [],
   "source": []
  }
 ],
 "metadata": {
  "kernelspec": {
   "display_name": "Python (base)",
   "language": "python",
   "name": "base"
  },
  "language_info": {
   "codemirror_mode": {
    "name": "ipython",
    "version": 3
   },
   "file_extension": ".py",
   "mimetype": "text/x-python",
   "name": "python",
   "nbconvert_exporter": "python",
   "pygments_lexer": "ipython3",
   "version": "3.8.8"
  }
 },
 "nbformat": 4,
 "nbformat_minor": 5
}
