{
 "cells": [
  {
   "cell_type": "code",
   "execution_count": 1,
   "id": "f4529afa",
   "metadata": {},
   "outputs": [],
   "source": [
    "import numpy as np\n",
    "from strategy import ProbStrategy\n",
    "from random import randint"
   ]
  },
  {
   "cell_type": "code",
   "execution_count": 11,
   "id": "fae69d0f",
   "metadata": {},
   "outputs": [],
   "source": [
    "def takingStock(values):\n",
    "    counts = [0]*7\n",
    "    locs = [0]*7\n",
    "    for i, value in enumerate(values):\n",
    "        counts[value] += 1\n",
    "        if locs[value] == 0:\n",
    "            locs[value] = [i]\n",
    "        else:\n",
    "            locs[value] = locs[value] + [i]\n",
    "    return counts, locs"
   ]
  },
  {
   "cell_type": "code",
   "execution_count": null,
   "id": "9c4f5f23",
   "metadata": {},
   "outputs": [],
   "source": [
    "def probTwoRolls(N):\n",
    "    p = 0\n",
    "    for k in range(N+1):\n",
    "        p += 6**(N-k)*(5**k)/(6**(2*N))\n",
    "    return p\n",
    "\n",
    "def probOneRoll(N):\n",
    "    return 1/(6**N)\n",
    "\n",
    "    def prob(N, roll):\n",
    "        if roll == 1:\n",
    "            p = 0\n",
    "            for k in range(N+1):\n",
    "                p += 6**(N-k)*(5**k)/(6**(2*N))\n",
    "            return p\n",
    "        elif roll == 2:\n",
    "            return 1/(6**N)"
   ]
  },
  {
   "cell_type": "code",
   "execution_count": null,
   "id": "9acb78a1",
   "metadata": {},
   "outputs": [],
   "source": [
    "print(counts, locs)"
   ]
  },
  {
   "cell_type": "code",
   "execution_count": null,
   "id": "6f35520e",
   "metadata": {},
   "outputs": [],
   "source": [
    "keep = locs[np.argmax(counts)]\n",
    "reroll = [i for i in range(5) if i not in keep]"
   ]
  },
  {
   "cell_type": "code",
   "execution_count": null,
   "id": "9edb4b50",
   "metadata": {},
   "outputs": [],
   "source": [
    "values = [1, 1, 1, 3, 2]\n",
    "counts, locs = takingStock(values)"
   ]
  },
  {
   "cell_type": "code",
   "execution_count": null,
   "id": "77b61a08",
   "metadata": {},
   "outputs": [],
   "source": [
    "def score(values):\n",
    "    \"\"\"\n",
    "    Automatically scores the roll. Outputs a string of the name of the roll,\n",
    "    and the money amount assigned to the roll.\n",
    "    \"\"\"\n",
    "    counts = [0]*7\n",
    "    for value in values:\n",
    "        counts[value] += 1\n",
    "\n",
    "    if 5 in counts:\n",
    "        return 30\n",
    "    elif 4 in counts:\n",
    "        return 15\n",
    "    elif (3 in counts) and (2 in counts):\n",
    "        return 12\n",
    "    elif 3 in counts:\n",
    "        return 8\n",
    "    elif not (2 in counts) and (counts[1] == 0 or counts[6] == 0):\n",
    "        return 20\n",
    "    elif counts.count(2) == 2:\n",
    "        return 5\n",
    "    else:\n",
    "        return 0"
   ]
  },
  {
   "cell_type": "code",
   "execution_count": null,
   "id": "0bcaa3d5",
   "metadata": {},
   "outputs": [],
   "source": [
    "keep = [1,2,3,4,5]\n",
    "[randint(1,6) for i in range(5-len(keep))]"
   ]
  },
  {
   "cell_type": "code",
   "execution_count": null,
   "id": "1bf7e9f3",
   "metadata": {},
   "outputs": [],
   "source": [
    "values = [1, 2, 4, 4, 5]\n",
    "keep = [2, 3]\n",
    "\n",
    "score([values[i] for i in keep] + [randint(1,6) for i in range(5-len(keep))])"
   ]
  },
  {
   "cell_type": "code",
   "execution_count": null,
   "id": "cfcb0095",
   "metadata": {},
   "outputs": [],
   "source": [
    "def fiveOfAKind(values, roll):\n",
    "    counts, locs = takingStock(values)\n",
    "    keep = locs[np.argmax(counts)]\n",
    "    reroll = [i for i in range(5) if i not in keep]\n",
    "    \n",
    "    # Calculate expected value\n",
    "    ex = 1.5*score([values[i] for i in keep] + [randint(1,6) for i in range(5-len(keep))]) + prob(len(reroll), roll)*scores['Five of a Kind']\n",
    "    return reroll, ex\n",
    "\n",
    "def fourOfAKind(values, roll):\n",
    "    counts, locs = takingStock(values)\n",
    "    safe = np.max(counts)\n",
    "    if safe == 5:\n",
    "        keep = [0, 1, 2, 3, 4]\n",
    "        reroll = []\n",
    "    elif safe == 4:\n",
    "        keep = locs[counts.index(4)]\n",
    "        reroll = [i for i in range(5) if i not in keep]\n",
    "    else:\n",
    "        keep = locs[np.argmax(counts)]\n",
    "        reroll = [i for i in range(5) if i not in keep]\n",
    "    ex = 1.5*score([values[i] for i in keep] + [randint(1,6) for i in range(5-len(keep))]) + prob(len(reroll), roll)*scores['Four of a Kind']\n",
    "    return reroll, ex\n",
    "    \n",
    "    \n",
    "def threeOfAKind(values, roll):\n",
    "    counts, locs = takingStock(values)\n",
    "    safe = np.max(counts)\n",
    "    if safe == 5:\n",
    "        keep = [0, 1, 2, 3, 4]\n",
    "        reroll = []\n",
    "    elif safe == 4:\n",
    "        keep = locs[counts.index(4)]\n",
    "        reroll = [i for i in range(5) if i not in keep]\n",
    "    elif safe == 3:\n",
    "        keep = locs[counts.index(3)]\n",
    "        reroll = [i for i in range(5) if i not in keep] \n",
    "    else:\n",
    "        keep = locs[np.argmax(counts)]\n",
    "        reroll = [i for i in range(5) if i not in keep]\n",
    "    ex = 1.5*score([values[i] for i in keep] + [randint(1,6) for i in range(5-len(keep))]) + prob(len(reroll), roll)*scores['Three of a Kind']\n",
    "    return reroll, ex\n",
    "    \n",
    "def fullHouse(values, roll):\n",
    "    counts, locs = takingStock(values)\n",
    "    safe = np.max(counts)\n",
    "    if (3 in counts) & (2 in counts):\n",
    "        keep = [0, 1, 2, 3, 4]\n",
    "        reroll = []\n",
    "    elif safe == 5:\n",
    "        reroll = locs[counts.index(5)][0:2]\n",
    "        keep = [i for i in range(5) if i not in reroll]\n",
    "    elif safe == 4:\n",
    "        reroll = locs[counts.index(1)] + locs[counts.index(4)][0:1]\n",
    "        keep = [i for i in range(5) if i not in reroll]\n",
    "    elif safe <= 3:\n",
    "        keep = locs[np.argmax(counts)]\n",
    "        reroll = [i for i in range(5) if i not in keep]\n",
    "    ex = 1.5*score([values[i] for i in keep] + [randint(1,6) for i in range(5-len(keep))]) + prob(len(reroll), roll)*scores['Full House']\n",
    "    return reroll, ex\n",
    "    \n",
    "def straight(values, roll):\n",
    "    counts, locs = takingStock(values)\n",
    "    keep = []\n",
    "    for i in [2,3,4,5]:\n",
    "        if i in values:\n",
    "            keep.append(values.index(i))\n",
    "    if (1 in values) & (6 in values):\n",
    "        keep.append(values.index(1))\n",
    "    elif 1 in values:\n",
    "        keep.append(values.index(1))\n",
    "    elif 6 in values:\n",
    "        keep.append(values.index(6))\n",
    "    reroll = [i for i in range(5) if i not in keep]\n",
    "    ex = 1.5*score([values[i] for i in keep] + [randint(1,6) for i in range(5-len(keep))]) + prob(len(reroll), roll)*scores['Straight']\n",
    "    return reroll, ex\n",
    "    \n",
    "    \n",
    "def twoPairs(values, roll):\n",
    "    counts, locs = takingStock(values)\n",
    "    safe = np.max(counts)\n",
    "    full, _ = fullHouse(values, 1)\n",
    "    if (counts.count(2) == 2) | (full == []):\n",
    "        reroll = []\n",
    "        keep = [0, 1, 2, 3, 4]\n",
    "    elif safe == 5:\n",
    "        reroll = [0, 1]\n",
    "        keep = [2, 3, 4]\n",
    "    elif safe == 4:\n",
    "        reroll = locs[counts.index(1)] + locs[counts.index(4)][0:2]\n",
    "        keep = [i for i in range(5) if i not in reroll]\n",
    "    elif safe == 3:\n",
    "        keep = locs[counts.index(3)][0:2]\n",
    "        reroll = [i for i in range(5) if i not in keep]\n",
    "    elif safe == 2:\n",
    "        keep = locs[counts.index(2)]\n",
    "        reroll = [i for i in range(5) if i not in keep]\n",
    "    else:\n",
    "        reroll = [0,1,2,3,4]\n",
    "        keep = []\n",
    "    ex = 1.5*score([values[i] for i in keep] + [randint(1,6) for i in range(5-len(keep))]) + prob(len(reroll), roll)*scores['Two Pairs']\n",
    "    return reroll, ex\n",
    "    \n",
    "    "
   ]
  },
  {
   "cell_type": "code",
   "execution_count": null,
   "id": "16197b31",
   "metadata": {},
   "outputs": [],
   "source": [
    "values = [4, 4, 4, 2, 1]\n",
    "fiveOfAKind(values, 1)"
   ]
  },
  {
   "cell_type": "code",
   "execution_count": null,
   "id": "a47c8775",
   "metadata": {},
   "outputs": [],
   "source": [
    "rerolls = {'Five of a Kind': fiveOfAKind,\n",
    "           'Four of a Kind': fourOfAKind,\n",
    "           'Three of a Kind': threeOfAKind,\n",
    "           'Full House': fullHouse,\n",
    "           'Straight': straight,\n",
    "           'Two Pairs': twoPairs}\n",
    "scores = {'Five of a Kind': 30,\n",
    "          'Four of a Kind': 15,\n",
    "          'Three of a Kind': 8,\n",
    "          'Full House': 12,\n",
    "          'Straight': 20,\n",
    "          'Two Pairs': 5}"
   ]
  },
  {
   "cell_type": "code",
   "execution_count": null,
   "id": "744775a1",
   "metadata": {},
   "outputs": [],
   "source": [
    "expected = []\n",
    "toRolls = []\n",
    "roll = 1\n",
    "for key, item in rerolls.items():\n",
    "    reroll, ex = item(values, roll)\n",
    "    expected.append(ex)\n",
    "    toRolls.append(reroll)\n",
    "    \n",
    "toRolls[np.argmax(expected)]\n",
    "#expected"
   ]
  },
  {
   "cell_type": "code",
   "execution_count": null,
   "id": "afe4f450",
   "metadata": {},
   "outputs": [],
   "source": [
    "toRolls[np.argmax(expected)]"
   ]
  },
  {
   "cell_type": "code",
   "execution_count": null,
   "id": "cf139a5d",
   "metadata": {},
   "outputs": [],
   "source": [
    "toRolls"
   ]
  },
  {
   "cell_type": "code",
   "execution_count": 2,
   "id": "f1059cea",
   "metadata": {},
   "outputs": [
    {
     "data": {
      "text/plain": [
       "[3, 4]"
      ]
     },
     "execution_count": 2,
     "metadata": {},
     "output_type": "execute_result"
    }
   ],
   "source": [
    "ProbStrategy([4, 4, 4, 2, 1], 1)"
   ]
  },
  {
   "cell_type": "code",
   "execution_count": null,
   "id": "bea6d0c2",
   "metadata": {},
   "outputs": [],
   "source": []
  },
  {
   "cell_type": "code",
   "execution_count": 5,
   "id": "181f77f1",
   "metadata": {},
   "outputs": [
    {
     "data": {
      "text/plain": [
       "[-5, -4, -3, -2, -1, 0, 1, 2, 3, 4, 5]"
      ]
     },
     "execution_count": 5,
     "metadata": {},
     "output_type": "execute_result"
    }
   ],
   "source": [
    "test = range(-5, 6)\n",
    "list(test)"
   ]
  },
  {
   "cell_type": "code",
   "execution_count": 9,
   "id": "6216565c",
   "metadata": {},
   "outputs": [
    {
     "data": {
      "text/plain": [
       "[-5,\n",
       " -4,\n",
       " -3,\n",
       " -2,\n",
       " -1,\n",
       " 0,\n",
       " 1,\n",
       " 2,\n",
       " 3,\n",
       " 4,\n",
       " 5,\n",
       " -5,\n",
       " -4,\n",
       " -3,\n",
       " -2,\n",
       " -1,\n",
       " 0,\n",
       " 1,\n",
       " 2,\n",
       " 3,\n",
       " 4,\n",
       " 5,\n",
       " -5,\n",
       " -4,\n",
       " -3,\n",
       " -2,\n",
       " -1,\n",
       " 0,\n",
       " 1,\n",
       " 2,\n",
       " 3,\n",
       " 4,\n",
       " 5,\n",
       " 'S',\n",
       " 'S',\n",
       " 'S']"
      ]
     },
     "execution_count": 9,
     "metadata": {},
     "output_type": "execute_result"
    }
   ],
   "source": [
    "list(range(-5, 6))*3 + ['S']*3"
   ]
  },
  {
   "cell_type": "code",
   "execution_count": 42,
   "id": "a1d0d080",
   "metadata": {},
   "outputs": [],
   "source": [
    "values = [5, 5, 1, 2, 4]\n",
    "counts, locs = takingStock(values)\n",
    "sel = 2"
   ]
  },
  {
   "cell_type": "code",
   "execution_count": 20,
   "id": "db0ad8ad",
   "metadata": {},
   "outputs": [],
   "source": [
    "state = counts.copy()\n",
    "state = [value for value in state if value != 0]\n",
    "if sel > 0:\n",
    "    state.sort(reverse=True)\n",
    "elif sel < 0:\n",
    "    state.sort()"
   ]
  },
  {
   "cell_type": "code",
   "execution_count": 23,
   "id": "15c0979e",
   "metadata": {},
   "outputs": [
    {
     "data": {
      "text/plain": [
       "[0, 1, 1, 0, 1, 2, 0]"
      ]
     },
     "execution_count": 23,
     "metadata": {},
     "output_type": "execute_result"
    }
   ],
   "source": [
    "counts"
   ]
  },
  {
   "cell_type": "code",
   "execution_count": 27,
   "id": "abbc3f58",
   "metadata": {},
   "outputs": [],
   "source": [
    "state = counts.copy()\n",
    "state = [value for value in state if value != 0]\n",
    "\n",
    "if sel <= np.max(counts):\n",
    "    reroll = locs[np.argmax(counts)][0:sel]\n",
    "elif sel <= state[0] + state[1]:\n",
    "    locs[counts.]"
   ]
  },
  {
   "cell_type": "code",
   "execution_count": 28,
   "id": "a5f79cc8",
   "metadata": {},
   "outputs": [
    {
     "data": {
      "text/plain": [
       "[3, 4]"
      ]
     },
     "execution_count": 28,
     "metadata": {},
     "output_type": "execute_result"
    }
   ],
   "source": [
    "reroll"
   ]
  },
  {
   "cell_type": "code",
   "execution_count": 82,
   "id": "344f8b58",
   "metadata": {},
   "outputs": [],
   "source": [
    "values = [5, 5, 1, 2, 4]\n",
    "sel = -3"
   ]
  },
  {
   "cell_type": "code",
   "execution_count": 86,
   "id": "6b950ce1",
   "metadata": {},
   "outputs": [
    {
     "data": {
      "text/plain": [
       "[0, 1, 1, 0, 1, 2, 0]"
      ]
     },
     "execution_count": 86,
     "metadata": {},
     "output_type": "execute_result"
    }
   ],
   "source": [
    "counts"
   ]
  },
  {
   "cell_type": "code",
   "execution_count": 94,
   "id": "8d615f5a",
   "metadata": {},
   "outputs": [
    {
     "name": "stdout",
     "output_type": "stream",
     "text": [
      "1\n",
      "1\n",
      "1\n",
      "5\n"
     ]
    }
   ],
   "source": [
    "idx = 0\n",
    "for i in range(1, 6):\n",
    "    try:\n",
    "        for j in range(counts.count(i)):\n",
    "            idx = counts.index(i, idx)\n",
    "            print(idx)\n",
    "    except:\n",
    "        pass"
   ]
  },
  {
   "cell_type": "code",
   "execution_count": 163,
   "id": "ccf6f887",
   "metadata": {},
   "outputs": [
    {
     "name": "stdout",
     "output_type": "stream",
     "text": [
      "1\n",
      "2\n",
      "4\n"
     ]
    }
   ],
   "source": [
    "idx, count = 0, 0\n",
    "for i in range(counts.count(1)):\n",
    "    if count == 0:\n",
    "        idx = counts.index(1)\n",
    "    else:\n",
    "        idx = counts.index(1, idx+1)\n",
    "    count += 1\n",
    "    print(idx)"
   ]
  },
  {
   "cell_type": "code",
   "execution_count": 161,
   "id": "816abffc",
   "metadata": {},
   "outputs": [
    {
     "name": "stdout",
     "output_type": "stream",
     "text": [
      "[5, 5, 5, 2, 4]\n",
      "[1, 2, 4, 5, 5]\n",
      "[3]\n"
     ]
    }
   ],
   "source": [
    "values = [5, 5, 5, 2, 4]\n",
    "ordered = []\n",
    "sel = 2\n",
    "if sel > 0:\n",
    "    down = [1, 6, 1]\n",
    "elif sel < 0:\n",
    "    down = [5, 0, -1]\n",
    "\n",
    "for j in range(*down):\n",
    "    idx = 0\n",
    "    count = 0\n",
    "    for i in range(counts.count(j)):\n",
    "        if count == 0:\n",
    "            idx = counts.index(j)\n",
    "        else:\n",
    "            idx = counts.index(j, idx+1)\n",
    "        ordered = ordered + j*[idx]\n",
    "        count += 1\n",
    "        #print(idx)\n",
    "print(values)\n",
    "print(ordered)\n",
    "\n",
    "idx = 0\n",
    "count = 0\n",
    "reroll = []\n",
    "for i in range(abs(sel)):\n",
    "    try:\n",
    "        if count == 0:\n",
    "            idx = values.index(ordered[i])\n",
    "        else:\n",
    "            idx = values.index(ordered[i], idx+1)\n",
    "        reroll.append(idx)\n",
    "    except:\n",
    "        pass\n",
    "    count += 1\n",
    "print(reroll)"
   ]
  },
  {
   "cell_type": "code",
   "execution_count": 134,
   "id": "af6de9e7",
   "metadata": {},
   "outputs": [
    {
     "data": {
      "text/plain": [
       "[5, 5, 1, 2, 4]"
      ]
     },
     "execution_count": 134,
     "metadata": {},
     "output_type": "execute_result"
    }
   ],
   "source": [
    "ordered"
   ]
  },
  {
   "cell_type": "code",
   "execution_count": 135,
   "id": "38ef364a",
   "metadata": {},
   "outputs": [
    {
     "data": {
      "text/plain": [
       "[5, 5, 1, 2, 4]"
      ]
     },
     "execution_count": 135,
     "metadata": {},
     "output_type": "execute_result"
    }
   ],
   "source": [
    "values"
   ]
  },
  {
   "cell_type": "code",
   "execution_count": 138,
   "id": "1f2780f4",
   "metadata": {},
   "outputs": [],
   "source": [
    "idx = 0\n",
    "count = 0\n",
    "reroll = []\n",
    "for i in range(abs(sel)):\n",
    "    if count == 0:\n",
    "        idx = values.index(ordered[i])\n",
    "    else:\n",
    "        idx = values.index(ordered[i], idx+1)\n",
    "    reroll.append(idx)\n",
    "    count += 1"
   ]
  },
  {
   "cell_type": "code",
   "execution_count": 139,
   "id": "62d024c9",
   "metadata": {},
   "outputs": [
    {
     "data": {
      "text/plain": [
       "[0, 1]"
      ]
     },
     "execution_count": 139,
     "metadata": {},
     "output_type": "execute_result"
    }
   ],
   "source": [
    "reroll"
   ]
  },
  {
   "cell_type": "code",
   "execution_count": 236,
   "id": "798046c6",
   "metadata": {},
   "outputs": [],
   "source": [
    "def whichReroll(selection, values):\n",
    "    values = values.copy()\n",
    "    counts, locs = takingStock(values)\n",
    "    ordered = []\n",
    "    if selection == 0:\n",
    "        return []\n",
    "    elif selection < 0:\n",
    "        down = [1, 6, 1]\n",
    "    elif selection > 0:\n",
    "        down = [5, 0, -1]\n",
    "\n",
    "    for j in range(*down):\n",
    "        idx = 0\n",
    "        count = 0\n",
    "        for i in range(counts.count(j)):\n",
    "            if count == 0:\n",
    "                idx = counts.index(j)\n",
    "            else:\n",
    "                idx = counts.index(j, idx+1)\n",
    "            ordered = ordered + j*[idx]\n",
    "            count += 1\n",
    "\n",
    "    reroll = []\n",
    "    for i in range(abs(selection)):\n",
    "        idx = values.index(ordered[i])\n",
    "        values[idx] = '.'              \n",
    "        reroll.append(idx)\n",
    "        \n",
    "    return reroll"
   ]
  },
  {
   "cell_type": "code",
   "execution_count": 233,
   "id": "930ae2bd",
   "metadata": {},
   "outputs": [
    {
     "data": {
      "text/plain": [
       "[1, 1, 4, 5, 6]"
      ]
     },
     "execution_count": 233,
     "metadata": {},
     "output_type": "execute_result"
    }
   ],
   "source": [
    "ordered"
   ]
  },
  {
   "cell_type": "code",
   "execution_count": 242,
   "id": "1693cc3e",
   "metadata": {},
   "outputs": [
    {
     "data": {
      "text/plain": [
       "[4, 3, 0, 1]"
      ]
     },
     "execution_count": 242,
     "metadata": {},
     "output_type": "execute_result"
    }
   ],
   "source": [
    "values = [6,1,1,5,4]\n",
    "reroll = whichReroll(-4, values)\n",
    "reroll"
   ]
  },
  {
   "cell_type": "code",
   "execution_count": 238,
   "id": "b3fe622b",
   "metadata": {},
   "outputs": [
    {
     "data": {
      "text/plain": [
       "[4]"
      ]
     },
     "execution_count": 238,
     "metadata": {},
     "output_type": "execute_result"
    }
   ],
   "source": [
    "reroll"
   ]
  },
  {
   "cell_type": "code",
   "execution_count": 243,
   "id": "d2d2905f",
   "metadata": {},
   "outputs": [],
   "source": [
    "test = np.array([1,1,1])"
   ]
  },
  {
   "cell_type": "code",
   "execution_count": 244,
   "id": "5fcbda8b",
   "metadata": {},
   "outputs": [
    {
     "data": {
      "text/plain": [
       "[1, 1, 1]"
      ]
     },
     "execution_count": 244,
     "metadata": {},
     "output_type": "execute_result"
    }
   ],
   "source": [
    "list(test)"
   ]
  },
  {
   "cell_type": "code",
   "execution_count": 246,
   "id": "f38fd65e",
   "metadata": {},
   "outputs": [],
   "source": [
    "import h5py\n",
    "test = h5py.File('pokerAI.h5', 'w')\n",
    "test.close()"
   ]
  },
  {
   "cell_type": "code",
   "execution_count": 247,
   "id": "6e1e477f",
   "metadata": {},
   "outputs": [
    {
     "ename": "TypeError",
     "evalue": "Not a location id (invalid object ID)",
     "output_type": "error",
     "traceback": [
      "\u001b[1;31m---------------------------------------------------------------------------\u001b[0m",
      "\u001b[1;31mTypeError\u001b[0m                                 Traceback (most recent call last)",
      "Input \u001b[1;32mIn [247]\u001b[0m, in \u001b[0;36m<cell line: 1>\u001b[1;34m()\u001b[0m\n\u001b[1;32m----> 1\u001b[0m \u001b[38;5;28;43mlen\u001b[39;49m\u001b[43m(\u001b[49m\u001b[43mtest\u001b[49m\u001b[43m)\u001b[49m\n",
      "File \u001b[1;32mh5py\\_objects.pyx:54\u001b[0m, in \u001b[0;36mh5py._objects.with_phil.wrapper\u001b[1;34m()\u001b[0m\n",
      "File \u001b[1;32mh5py\\_objects.pyx:55\u001b[0m, in \u001b[0;36mh5py._objects.with_phil.wrapper\u001b[1;34m()\u001b[0m\n",
      "File \u001b[1;32m~\\anaconda3\\lib\\site-packages\\h5py\\_hl\\group.py:443\u001b[0m, in \u001b[0;36mGroup.__len__\u001b[1;34m(self)\u001b[0m\n\u001b[0;32m    440\u001b[0m \u001b[38;5;129m@with_phil\u001b[39m\n\u001b[0;32m    441\u001b[0m \u001b[38;5;28;01mdef\u001b[39;00m \u001b[38;5;21m__len__\u001b[39m(\u001b[38;5;28mself\u001b[39m):\n\u001b[0;32m    442\u001b[0m     \u001b[38;5;124;03m\"\"\" Number of members attached to this group \"\"\"\u001b[39;00m\n\u001b[1;32m--> 443\u001b[0m     \u001b[38;5;28;01mreturn\u001b[39;00m \u001b[38;5;28;43mself\u001b[39;49m\u001b[38;5;241;43m.\u001b[39;49m\u001b[43mid\u001b[49m\u001b[38;5;241;43m.\u001b[39;49m\u001b[43mget_num_objs\u001b[49m\u001b[43m(\u001b[49m\u001b[43m)\u001b[49m\n",
      "File \u001b[1;32mh5py\\_objects.pyx:54\u001b[0m, in \u001b[0;36mh5py._objects.with_phil.wrapper\u001b[1;34m()\u001b[0m\n",
      "File \u001b[1;32mh5py\\_objects.pyx:55\u001b[0m, in \u001b[0;36mh5py._objects.with_phil.wrapper\u001b[1;34m()\u001b[0m\n",
      "File \u001b[1;32mh5py\\h5g.pyx:336\u001b[0m, in \u001b[0;36mh5py.h5g.GroupID.get_num_objs\u001b[1;34m()\u001b[0m\n",
      "\u001b[1;31mTypeError\u001b[0m: Not a location id (invalid object ID)"
     ]
    }
   ],
   "source": [
    "len(test)"
   ]
  },
  {
   "cell_type": "code",
   "execution_count": 248,
   "id": "2b6e5d38",
   "metadata": {},
   "outputs": [
    {
     "data": {
      "text/plain": [
       "[1, 2, 3]"
      ]
     },
     "execution_count": 248,
     "metadata": {},
     "output_type": "execute_result"
    }
   ],
   "source": [
    "list([1, 2, 3])"
   ]
  },
  {
   "cell_type": "code",
   "execution_count": 250,
   "id": "fb767e20",
   "metadata": {},
   "outputs": [],
   "source": [
    "from random import choice, sample"
   ]
  },
  {
   "cell_type": "code",
   "execution_count": 254,
   "id": "2c4067a4",
   "metadata": {},
   "outputs": [],
   "source": [
    "values = [1, 2, 2, 3, 4]\n",
    "counts, locs = takingStock(values)\n",
    "counts[0] = 1\n"
   ]
  },
  {
   "cell_type": "code",
   "execution_count": 258,
   "id": "cce4881d",
   "metadata": {},
   "outputs": [
    {
     "data": {
      "text/plain": [
       "'1121100'"
      ]
     },
     "execution_count": 258,
     "metadata": {},
     "output_type": "execute_result"
    }
   ],
   "source": [
    "''.join([str(i) for i in counts])"
   ]
  },
  {
   "cell_type": "code",
   "execution_count": 261,
   "id": "a71af714",
   "metadata": {},
   "outputs": [],
   "source": [
    "from itertools import combinations as comb"
   ]
  },
  {
   "cell_type": "code",
   "execution_count": 268,
   "id": "2918617f",
   "metadata": {},
   "outputs": [
    {
     "data": {
      "text/plain": [
       "[[],\n",
       " (0,),\n",
       " (1,),\n",
       " (2,),\n",
       " (3,),\n",
       " (4,),\n",
       " (0, 1),\n",
       " (0, 2),\n",
       " (0, 3),\n",
       " (0, 4),\n",
       " (1, 2),\n",
       " (1, 3),\n",
       " (1, 4),\n",
       " (2, 3),\n",
       " (2, 4),\n",
       " (3, 4),\n",
       " (0, 1, 2),\n",
       " (0, 1, 3),\n",
       " (0, 1, 4),\n",
       " (0, 2, 3),\n",
       " (0, 2, 4),\n",
       " (0, 3, 4),\n",
       " (1, 2, 3),\n",
       " (1, 2, 4),\n",
       " (1, 3, 4),\n",
       " (2, 3, 4),\n",
       " (0, 1, 2, 3),\n",
       " (0, 1, 2, 4),\n",
       " (0, 1, 3, 4),\n",
       " (0, 2, 3, 4),\n",
       " (1, 2, 3, 4),\n",
       " (0, 1, 2, 3, 4)]"
      ]
     },
     "execution_count": 268,
     "metadata": {},
     "output_type": "execute_result"
    }
   ],
   "source": [
    "[[]] + list(comb(range(5), 1)) + list(comb(range(5), 2)) + list(comb(range(5), 3)) + list(comb(range(5), 4)) + list(comb(range(5), 5))"
   ]
  },
  {
   "cell_type": "code",
   "execution_count": 269,
   "id": "6d1f1ab6",
   "metadata": {},
   "outputs": [
    {
     "data": {
      "text/plain": [
       "[()]"
      ]
     },
     "execution_count": 269,
     "metadata": {},
     "output_type": "execute_result"
    }
   ],
   "source": [
    "list(comb(range(5), 0))"
   ]
  },
  {
   "cell_type": "code",
   "execution_count": 274,
   "id": "677808e6",
   "metadata": {},
   "outputs": [],
   "source": [
    "test = []\n",
    "for i in range(6):\n",
    "    test = test + list(comb(range(5), i))\n",
    "\n",
    "t1 = []\n",
    "for i in test:\n",
    "    t1.append(list(i))"
   ]
  },
  {
   "cell_type": "code",
   "execution_count": 345,
   "id": "ce803226",
   "metadata": {},
   "outputs": [],
   "source": [
    "def whichToPick(values, sel):\n",
    "    counts, locs = takingStock(values)\n",
    "    counts2 = counts.copy()\n",
    "    counts[0] = 1\n",
    "    test = counts[1:]\n",
    "    test.sort(reverse=True)\n",
    "    chooseFrom = list(np.cumsum(test) - 1)\n",
    "    \n",
    "    reroll = []\n",
    "    re1 = 3 # initialize re1\n",
    "    for i in sel:\n",
    "        idx = i\n",
    "        for i in range(3):\n",
    "            try:\n",
    "                re1 = counts2.index(test[chooseFrom.index(idx)])\n",
    "                break\n",
    "            except:\n",
    "                idx =- 1\n",
    "\n",
    "        counts2[re1] = '.'\n",
    "        reroll.append(re1)\n",
    "        \n",
    "    return reroll"
   ]
  },
  {
   "cell_type": "code",
   "execution_count": 346,
   "id": "5ec58929",
   "metadata": {},
   "outputs": [
    {
     "data": {
      "text/plain": [
       "[3, 1, 4]"
      ]
     },
     "execution_count": 346,
     "metadata": {},
     "output_type": "execute_result"
    }
   ],
   "source": [
    "whichToPick(values, sel)"
   ]
  },
  {
   "cell_type": "code",
   "execution_count": 408,
   "id": "88dd3a80",
   "metadata": {},
   "outputs": [],
   "source": [
    "values = [3, 3, 3, 4, 4]\n",
    "counts, locs = takingStock(values)\n",
    "counts2 = counts.copy()\n",
    "counts[0] = 1\n",
    "sel = [0, 3, 2]"
   ]
  },
  {
   "cell_type": "code",
   "execution_count": 409,
   "id": "4e6a2f6c",
   "metadata": {},
   "outputs": [],
   "source": [
    "test = counts[1:]\n",
    "test.sort(reverse=True)"
   ]
  },
  {
   "cell_type": "code",
   "execution_count": 416,
   "id": "82388434",
   "metadata": {},
   "outputs": [
    {
     "data": {
      "text/plain": [
       "[3, 2, 0, 0, 0, 0]"
      ]
     },
     "execution_count": 416,
     "metadata": {},
     "output_type": "execute_result"
    }
   ],
   "source": [
    "test"
   ]
  },
  {
   "cell_type": "code",
   "execution_count": 411,
   "id": "6fa4b1f7",
   "metadata": {},
   "outputs": [
    {
     "data": {
      "text/plain": [
       "[2, 4, 4, 4, 4, 4]"
      ]
     },
     "execution_count": 411,
     "metadata": {},
     "output_type": "execute_result"
    }
   ],
   "source": [
    "chooseFrom = list(np.cumsum(test) - 1)\n",
    "chooseFrom"
   ]
  },
  {
   "cell_type": "code",
   "execution_count": 412,
   "id": "d16590cf",
   "metadata": {},
   "outputs": [
    {
     "data": {
      "text/plain": [
       "[3, 4, 3]"
      ]
     },
     "execution_count": 412,
     "metadata": {},
     "output_type": "execute_result"
    }
   ],
   "source": [
    "reroll = []\n",
    "for i in sel:\n",
    "    idx = i\n",
    "    for i in range(3):\n",
    "        try:\n",
    "            re1 = counts2.index(test[chooseFrom.index(idx)])\n",
    "            break\n",
    "        except:\n",
    "            idx += 1\n",
    "        \n",
    "    #counts2[re1] = '.'\n",
    "    reroll.append(re1)\n",
    "reroll"
   ]
  },
  {
   "cell_type": "code",
   "execution_count": 404,
   "id": "e9bfc363",
   "metadata": {},
   "outputs": [
    {
     "data": {
      "text/plain": [
       "3"
      ]
     },
     "execution_count": 404,
     "metadata": {},
     "output_type": "execute_result"
    }
   ],
   "source": [
    "test[chooseFrom.index(2)]"
   ]
  },
  {
   "cell_type": "code",
   "execution_count": 407,
   "id": "0a4a1304",
   "metadata": {},
   "outputs": [
    {
     "data": {
      "text/plain": [
       "[0, 0, 0, 3, 2, 0, 0]"
      ]
     },
     "execution_count": 407,
     "metadata": {},
     "output_type": "execute_result"
    }
   ],
   "source": [
    "counts2"
   ]
  },
  {
   "cell_type": "code",
   "execution_count": 402,
   "id": "abc95de7",
   "metadata": {},
   "outputs": [
    {
     "ename": "ValueError",
     "evalue": "3 is not in list",
     "output_type": "error",
     "traceback": [
      "\u001b[1;31m---------------------------------------------------------------------------\u001b[0m",
      "\u001b[1;31mValueError\u001b[0m                                Traceback (most recent call last)",
      "Input \u001b[1;32mIn [402]\u001b[0m, in \u001b[0;36m<cell line: 1>\u001b[1;34m()\u001b[0m\n\u001b[1;32m----> 1\u001b[0m \u001b[43mcounts2\u001b[49m\u001b[38;5;241;43m.\u001b[39;49m\u001b[43mindex\u001b[49m\u001b[43m(\u001b[49m\u001b[43mtest\u001b[49m\u001b[43m[\u001b[49m\u001b[43mchooseFrom\u001b[49m\u001b[38;5;241;43m.\u001b[39;49m\u001b[43mindex\u001b[49m\u001b[43m(\u001b[49m\u001b[38;5;241;43m2\u001b[39;49m\u001b[43m)\u001b[49m\u001b[43m]\u001b[49m\u001b[43m)\u001b[49m\n",
      "\u001b[1;31mValueError\u001b[0m: 3 is not in list"
     ]
    }
   ],
   "source": [
    "counts2.index(test[chooseFrom.index(2)])"
   ]
  },
  {
   "cell_type": "code",
   "execution_count": 384,
   "id": "d50a3a5f",
   "metadata": {},
   "outputs": [
    {
     "data": {
      "text/plain": [
       "3"
      ]
     },
     "execution_count": 384,
     "metadata": {},
     "output_type": "execute_result"
    }
   ],
   "source": [
    "chooseFrom.index(4)"
   ]
  },
  {
   "cell_type": "code",
   "execution_count": null,
   "id": "02818d1f",
   "metadata": {},
   "outputs": [],
   "source": []
  },
  {
   "cell_type": "code",
   "execution_count": 361,
   "id": "3b093bc8",
   "metadata": {},
   "outputs": [
    {
     "data": {
      "text/plain": [
       "1"
      ]
     },
     "execution_count": 361,
     "metadata": {},
     "output_type": "execute_result"
    }
   ],
   "source": [
    "counts2.index(test[chooseFrom.index(2)])"
   ]
  },
  {
   "cell_type": "code",
   "execution_count": 328,
   "id": "d6f7b461",
   "metadata": {},
   "outputs": [],
   "source": [
    "def whichReroll2(sel, values):\n",
    "    counts, locs = takingStock(values)\n",
    "    counts2 = counts.copy()\n",
    "    \n",
    "    test = counts[1:]\n",
    "    test.sort(reverse=True)\n",
    "    chooseFrom = list(np.cumsum(test) - 1)\n",
    "    reroll = []\n",
    "    for i in sel:\n",
    "        idx = i\n",
    "        for j in range(3):\n",
    "            try:\n",
    "                re1 = counts2.index(test[chooseFrom.index(idx)])\n",
    "                counts2[re1] = '.'\n",
    "                reroll.append(re1)\n",
    "                break\n",
    "            except:\n",
    "                idx =- 1\n",
    "        print(reroll)\n",
    "\n",
    "        \n",
    "        \n",
    "    return reroll"
   ]
  },
  {
   "cell_type": "code",
   "execution_count": 329,
   "id": "d759ad01",
   "metadata": {},
   "outputs": [
    {
     "data": {
      "text/plain": [
       "[1, 2, 2, 3, 4]"
      ]
     },
     "execution_count": 329,
     "metadata": {},
     "output_type": "execute_result"
    }
   ],
   "source": [
    "values"
   ]
  },
  {
   "cell_type": "code",
   "execution_count": 333,
   "id": "efb98992",
   "metadata": {},
   "outputs": [
    {
     "data": {
      "text/plain": [
       "[1, 1, 2, 1, 1, 0, 0]"
      ]
     },
     "execution_count": 333,
     "metadata": {},
     "output_type": "execute_result"
    }
   ],
   "source": [
    "counts"
   ]
  },
  {
   "cell_type": "code",
   "execution_count": 331,
   "id": "1780e2b6",
   "metadata": {},
   "outputs": [
    {
     "name": "stdout",
     "output_type": "stream",
     "text": [
      "[]\n",
      "[1]\n",
      "[1, 3]\n"
     ]
    },
    {
     "data": {
      "text/plain": [
       "[1, 3]"
      ]
     },
     "execution_count": 331,
     "metadata": {},
     "output_type": "execute_result"
    }
   ],
   "source": [
    "whichReroll2([0, 2, 3], values)"
   ]
  },
  {
   "cell_type": "code",
   "execution_count": 293,
   "id": "7eb8e2c5",
   "metadata": {},
   "outputs": [
    {
     "data": {
      "text/plain": [
       "[[],\n",
       " [0],\n",
       " [1],\n",
       " [2],\n",
       " [3],\n",
       " [4],\n",
       " [0, 1],\n",
       " [0, 2],\n",
       " [0, 3],\n",
       " [0, 4],\n",
       " [1, 2],\n",
       " [1, 3],\n",
       " [1, 4],\n",
       " [2, 3],\n",
       " [2, 4],\n",
       " [3, 4],\n",
       " [0, 1, 2],\n",
       " [0, 1, 3],\n",
       " [0, 1, 4],\n",
       " [0, 2, 3],\n",
       " [0, 2, 4],\n",
       " [0, 3, 4],\n",
       " [1, 2, 3],\n",
       " [1, 2, 4],\n",
       " [1, 3, 4],\n",
       " [2, 3, 4],\n",
       " [0, 1, 2, 3],\n",
       " [0, 1, 2, 4],\n",
       " [0, 1, 3, 4],\n",
       " [0, 2, 3, 4],\n",
       " [1, 2, 3, 4],\n",
       " [0, 1, 2, 3, 4]]"
      ]
     },
     "execution_count": 293,
     "metadata": {},
     "output_type": "execute_result"
    }
   ],
   "source": [
    "counts2[re1] = '.'"
   ]
  },
  {
   "cell_type": "code",
   "execution_count": 413,
   "id": "f4966787",
   "metadata": {},
   "outputs": [],
   "source": [
    "def whichReroll2(selection, values):\n",
    "\n",
    "    values = values.copy()\n",
    "    counts, locs = takingStock(values)\n",
    "    ordered = []\n",
    "    if selection == 0:\n",
    "        return []\n",
    "    else:\n",
    "        down = [5, 0, -1]\n",
    "        for j in range(*down):\n",
    "            idx = 0\n",
    "            count = 0\n",
    "            for i in range(counts.count(j)):\n",
    "                if count == 0:\n",
    "                    idx = counts.index(j)\n",
    "                else:\n",
    "                    idx = counts.index(j, idx+1)\n",
    "                ordered = ordered + j*[idx]\n",
    "                count += 1\n",
    "\n",
    "        reroll = []\n",
    "        for i in selection:\n",
    "            idx = values.index(ordered[i])\n",
    "            values[idx] = '.'\n",
    "            reroll.append(idx)\n",
    "            \n",
    "    return reroll"
   ]
  },
  {
   "cell_type": "code",
   "execution_count": 415,
   "id": "2e10e4f1",
   "metadata": {},
   "outputs": [
    {
     "data": {
      "text/plain": [
       "[0, 1, 3]"
      ]
     },
     "execution_count": 415,
     "metadata": {},
     "output_type": "execute_result"
    }
   ],
   "source": [
    "sel = [0, 1, 3]\n",
    "values = [5, 5, 5, 2, 2]\n",
    "whichReroll2(sel, values)"
   ]
  },
  {
   "cell_type": "code",
   "execution_count": null,
   "id": "dc496412",
   "metadata": {},
   "outputs": [],
   "source": []
  }
 ],
 "metadata": {
  "kernelspec": {
   "display_name": "Python 3 (ipykernel)",
   "language": "python",
   "name": "python3"
  },
  "language_info": {
   "codemirror_mode": {
    "name": "ipython",
    "version": 3
   },
   "file_extension": ".py",
   "mimetype": "text/x-python",
   "name": "python",
   "nbconvert_exporter": "python",
   "pygments_lexer": "ipython3",
   "version": "3.9.12"
  }
 },
 "nbformat": 4,
 "nbformat_minor": 5
}
