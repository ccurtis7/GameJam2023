{
 "cells": [
  {
   "cell_type": "code",
   "execution_count": 91,
   "id": "7748f788",
   "metadata": {},
   "outputs": [],
   "source": [
    "import numpy as np\n",
    "from strategy import ProbStrategy\n",
    "from random import randint"
   ]
  },
  {
   "cell_type": "code",
   "execution_count": 1,
   "id": "cdc4f431",
   "metadata": {},
   "outputs": [],
   "source": [
    "def takingStock(values):\n",
    "    counts = [0]*7\n",
    "    locs = [0]*7\n",
    "    for i, value in enumerate(values):\n",
    "        counts[value] += 1\n",
    "        if locs[value] == 0:\n",
    "            locs[value] = [i]\n",
    "        else:\n",
    "            locs[value] = locs[value] + [i]\n",
    "    return counts, locs"
   ]
  },
  {
   "cell_type": "code",
   "execution_count": 101,
   "id": "25f32253",
   "metadata": {},
   "outputs": [],
   "source": [
    "def probTwoRolls(N):\n",
    "    p = 0\n",
    "    for k in range(N+1):\n",
    "        p += 6**(N-k)*(5**k)/(6**(2*N))\n",
    "    return p\n",
    "\n",
    "def probOneRoll(N):\n",
    "    return 1/(6**N)\n",
    "\n",
    "    def prob(N, roll):\n",
    "        if roll == 1:\n",
    "            p = 0\n",
    "            for k in range(N+1):\n",
    "                p += 6**(N-k)*(5**k)/(6**(2*N))\n",
    "            return p\n",
    "        elif roll == 2:\n",
    "            return 1/(6**N)"
   ]
  },
  {
   "cell_type": "code",
   "execution_count": 4,
   "id": "01118f0f",
   "metadata": {},
   "outputs": [
    {
     "name": "stdout",
     "output_type": "stream",
     "text": [
      "[0, 2, 1, 0, 1, 1, 0] [0, [0, 4], [3], 0, [1], [2], 0]\n"
     ]
    }
   ],
   "source": [
    "print(counts, locs)"
   ]
  },
  {
   "cell_type": "code",
   "execution_count": 18,
   "id": "0daa104b",
   "metadata": {},
   "outputs": [
    {
     "data": {
      "text/plain": [
       "[1, 2, 3]"
      ]
     },
     "execution_count": 18,
     "metadata": {},
     "output_type": "execute_result"
    }
   ],
   "source": [
    "keep = locs[np.argmax(counts)]\n",
    "reroll = [i for i in range(5) if i not in keep]"
   ]
  },
  {
   "cell_type": "code",
   "execution_count": 30,
   "id": "f25e8581",
   "metadata": {},
   "outputs": [],
   "source": [
    "values = [1, 1, 1, 3, 2]\n",
    "counts, locs = takingStock(values)"
   ]
  },
  {
   "cell_type": "code",
   "execution_count": 99,
   "id": "b9b9fe68",
   "metadata": {},
   "outputs": [],
   "source": [
    "def score(values):\n",
    "    \"\"\"\n",
    "    Automatically scores the roll. Outputs a string of the name of the roll,\n",
    "    and the money amount assigned to the roll.\n",
    "    \"\"\"\n",
    "    counts = [0]*7\n",
    "    for value in values:\n",
    "        counts[value] += 1\n",
    "\n",
    "    if 5 in counts:\n",
    "        return 30\n",
    "    elif 4 in counts:\n",
    "        return 15\n",
    "    elif (3 in counts) and (2 in counts):\n",
    "        return 12\n",
    "    elif 3 in counts:\n",
    "        return 8\n",
    "    elif not (2 in counts) and (counts[1] == 0 or counts[6] == 0):\n",
    "        return 20\n",
    "    elif counts.count(2) == 2:\n",
    "        return 5\n",
    "    else:\n",
    "        return 0"
   ]
  },
  {
   "cell_type": "code",
   "execution_count": 95,
   "id": "2acdb1ca",
   "metadata": {},
   "outputs": [
    {
     "data": {
      "text/plain": [
       "[]"
      ]
     },
     "execution_count": 95,
     "metadata": {},
     "output_type": "execute_result"
    }
   ],
   "source": [
    "keep = [1,2,3,4,5]\n",
    "[randint(1,6) for i in range(5-len(keep))]"
   ]
  },
  {
   "cell_type": "code",
   "execution_count": 124,
   "id": "4710e65d",
   "metadata": {},
   "outputs": [
    {
     "data": {
      "text/plain": [
       "8"
      ]
     },
     "execution_count": 124,
     "metadata": {},
     "output_type": "execute_result"
    }
   ],
   "source": [
    "values = [1, 2, 4, 4, 5]\n",
    "keep = [2, 3]\n",
    "\n",
    "score([values[i] for i in keep] + [randint(1,6) for i in range(5-len(keep))])"
   ]
  },
  {
   "cell_type": "code",
   "execution_count": 133,
   "id": "d7c2f656",
   "metadata": {},
   "outputs": [],
   "source": [
    "def fiveOfAKind(values, roll):\n",
    "    counts, locs = takingStock(values)\n",
    "    keep = locs[np.argmax(counts)]\n",
    "    reroll = [i for i in range(5) if i not in keep]\n",
    "    \n",
    "    # Calculate expected value\n",
    "    ex = 2*score([values[i] for i in keep] + [randint(1,6) for i in range(5-len(keep))]) + prob(len(reroll), roll)*scores['Five of a Kind']\n",
    "    return reroll, ex\n",
    "\n",
    "def fourOfAKind(values, roll):\n",
    "    counts, locs = takingStock(values)\n",
    "    safe = np.max(counts)\n",
    "    if safe >= 4:\n",
    "        keep = [0, 1, 2, 3, 4]\n",
    "        reroll = []\n",
    "    else:\n",
    "        keep = locs[np.argmax(counts)]\n",
    "        reroll = [i for i in range(5) if i not in keep]\n",
    "    ex = 1.5*score([values[i] for i in keep] + [randint(1,6) for i in range(5-len(keep))]) + prob(len(reroll), roll)*scores['Four of a Kind']\n",
    "    return reroll, ex\n",
    "    \n",
    "    \n",
    "def threeOfAKind(values, roll):\n",
    "    counts, locs = takingStock(values)\n",
    "    safe = np.max(counts)\n",
    "    if safe >= 3:\n",
    "        keep = [0, 1, 2, 3, 4]\n",
    "        reroll = []\n",
    "    else:\n",
    "        keep = locs[np.argmax(counts)]\n",
    "        reroll = [i for i in range(5) if i not in keep]\n",
    "    ex = 1.5*score([values[i] for i in keep] + [randint(1,6) for i in range(5-len(keep))]) + prob(len(reroll), roll)*scores['Three of a Kind']\n",
    "    return reroll, ex\n",
    "    \n",
    "def fullHouse(values, roll):\n",
    "    counts, locs = takingStock(values)\n",
    "    safe = np.max(counts)\n",
    "    if (3 in counts) & (2 in counts):\n",
    "        keep = [0, 1, 2, 3, 4]\n",
    "        reroll = []\n",
    "    elif safe == 5:\n",
    "        reroll = locs[counts.index(5)][0:2]\n",
    "        keep = [i for i in range(5) if i not in reroll]\n",
    "    elif safe == 4:\n",
    "        reroll = locs[counts.index(1)] + locs[counts.index(4)][0:1]\n",
    "        keep = [i for i in range(5) if i not in reroll]\n",
    "    elif safe <= 3:\n",
    "        keep = locs[np.argmax(counts)]\n",
    "        reroll = [i for i in range(5) if i not in keep]\n",
    "    ex = 1.5*score([values[i] for i in keep] + [randint(1,6) for i in range(5-len(keep))]) + prob(len(reroll), roll)*scores['Full House']\n",
    "    return reroll, ex\n",
    "    \n",
    "def straight(values, roll):\n",
    "    counts, locs = takingStock(values)\n",
    "    keep = []\n",
    "    for i in [2,3,4,5]:\n",
    "        if i in values:\n",
    "            keep.append(values.index(i))\n",
    "    if (1 in values) & (6 in values):\n",
    "        keep.append(values.index(1))\n",
    "    elif 1 in values:\n",
    "        keep.append(values.index(1))\n",
    "    elif 6 in values:\n",
    "        keep.append(values.index(6))\n",
    "    reroll = [i for i in range(5) if i not in keep]\n",
    "    ex = 1.5*score([values[i] for i in keep] + [randint(1,6) for i in range(5-len(keep))]) + prob(len(reroll), roll)*scores['Straight']\n",
    "    return reroll, ex\n",
    "    \n",
    "    \n",
    "def twoPairs(values, roll):\n",
    "    counts, locs = takingStock(values)\n",
    "    safe = np.max(counts)\n",
    "    full, _ = fullHouse(values, 1)\n",
    "    if (counts.count(2) == 2) | (full == []):\n",
    "        reroll = []\n",
    "        keep = [0, 1, 2, 3, 4]\n",
    "    elif safe == 5:\n",
    "        reroll = [0, 1]\n",
    "        keep = [2, 3, 4]\n",
    "    elif safe == 4:\n",
    "        reroll = locs[counts.index(1)] + locs[counts.index(4)][0:2]\n",
    "        keep = [i for i in range(5) if i not in reroll]\n",
    "    elif safe == 3:\n",
    "        keep = locs[counts.index(3)][0:2]\n",
    "        reroll = [i for i in range(5) if i not in keep]\n",
    "    elif safe == 2:\n",
    "        keep = locs[counts.index(2)]\n",
    "        reroll = [i for i in range(5) if i not in keep]\n",
    "    else:\n",
    "        reroll = [0,1,2,3,4]\n",
    "        keep = []\n",
    "    ex = 1.5*score([values[i] for i in keep] + [randint(1,6) for i in range(5-len(keep))]) + prob(len(reroll), roll)*scores['Two Pairs']\n",
    "    return reroll, ex\n",
    "    \n",
    "    "
   ]
  },
  {
   "cell_type": "code",
   "execution_count": 154,
   "id": "ab14e220",
   "metadata": {},
   "outputs": [
    {
     "data": {
      "text/plain": [
       "([4], 39.16666666666667)"
      ]
     },
     "execution_count": 154,
     "metadata": {},
     "output_type": "execute_result"
    }
   ],
   "source": [
    "values = [1, 1, 1, 1, 4]\n",
    "fiveOfAKind(values, 1)"
   ]
  },
  {
   "cell_type": "code",
   "execution_count": 155,
   "id": "5d16e19e",
   "metadata": {},
   "outputs": [],
   "source": [
    "rerolls = {'Five of a Kind': fiveOfAKind,\n",
    "           'Four of a Kind': fourOfAKind,\n",
    "           'Three of a Kind': threeOfAKind,\n",
    "           'Full House': fullHouse,\n",
    "           'Straight': straight,\n",
    "           'Two Pairs': twoPairs}\n",
    "scores = {'Five of a Kind': 30,\n",
    "          'Four of a Kind': 15,\n",
    "          'Three of a Kind': 8,\n",
    "          'Full House': 12,\n",
    "          'Straight': 20,\n",
    "          'Two Pairs': 5}"
   ]
  },
  {
   "cell_type": "code",
   "execution_count": 156,
   "id": "5d7db900",
   "metadata": {},
   "outputs": [
    {
     "data": {
      "text/plain": [
       "[69.16666666666667,\n",
       " 37.5,\n",
       " 30.5,\n",
       " 23.34259259259259,\n",
       " 0.2876371742112483,\n",
       " 0.07190929355281207]"
      ]
     },
     "execution_count": 156,
     "metadata": {},
     "output_type": "execute_result"
    }
   ],
   "source": [
    "expected = []\n",
    "toRolls = []\n",
    "roll = 1\n",
    "for key, item in rerolls.items():\n",
    "    reroll, ex = item(values, roll)\n",
    "    expected.append(ex)\n",
    "    toRolls.append(reroll)\n",
    "    \n",
    "toRolls[np.argmax(expected)]\n",
    "expected"
   ]
  },
  {
   "cell_type": "code",
   "execution_count": 153,
   "id": "a0b75aea",
   "metadata": {},
   "outputs": [
    {
     "data": {
      "text/plain": [
       "[]"
      ]
     },
     "execution_count": 153,
     "metadata": {},
     "output_type": "execute_result"
    }
   ],
   "source": [
    "ProbStrategy([1,1,1,1,4], 1)"
   ]
  },
  {
   "cell_type": "code",
   "execution_count": null,
   "id": "e7f38e39",
   "metadata": {},
   "outputs": [],
   "source": []
  }
 ],
 "metadata": {
  "kernelspec": {
   "display_name": "Python 3 (ipykernel)",
   "language": "python",
   "name": "python3"
  },
  "language_info": {
   "codemirror_mode": {
    "name": "ipython",
    "version": 3
   },
   "file_extension": ".py",
   "mimetype": "text/x-python",
   "name": "python",
   "nbconvert_exporter": "python",
   "pygments_lexer": "ipython3",
   "version": "3.9.12"
  }
 },
 "nbformat": 4,
 "nbformat_minor": 5
}
